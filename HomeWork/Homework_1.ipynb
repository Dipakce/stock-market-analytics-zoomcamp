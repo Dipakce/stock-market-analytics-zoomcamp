{
 "cells": [
  {
   "cell_type": "code",
   "execution_count": 1,
   "id": "ecda2cce",
   "metadata": {},
   "outputs": [],
   "source": [
    "import numpy as np\n",
    "import pandas as pd\n",
    "\n",
    "#Fin Data Sourcees\n",
    "import yfinance as yf\n",
    "import pandas_datareader as pdr\n",
    "\n",
    "#Data viz\n",
    "import plotly.graph_objs as go\n",
    "import plotly.express as px\n",
    "\n",
    "import time\n",
    "from datetime import date\n",
    "import datetime"
   ]
  },
  {
   "cell_type": "code",
   "execution_count": 2,
   "id": "6c3345b2",
   "metadata": {},
   "outputs": [
    {
     "name": "stdout",
     "output_type": "stream",
     "text": [
      "Year = 2024; month= 4; day=22\n",
      "Period for indexes: 1954-01-02 to 2024-04-22 \n"
     ]
    }
   ],
   "source": [
    "end = date.today()\n",
    "print(f'Year = {end.year}; month= {end.month}; day={end.day}')\n",
    "\n",
    "start = date(year=end.year-70, month=end.month-3, day=end.day - 20)\n",
    "print(f'Period for indexes: {start} to {end} ')"
   ]
  },
  {
   "cell_type": "code",
   "execution_count": 242,
   "id": "7ce7bd85",
   "metadata": {},
   "outputs": [],
   "source": [
    "class Percent(float):\n",
    "    def __str__(self):\n",
    "        return '{:.1%}'.format(round(self,3))"
   ]
  },
  {
   "cell_type": "markdown",
   "id": "b1c68411",
   "metadata": {},
   "source": [
    "#### Question 1\n",
    "What is the average growth (in %) of GDP in 2023?\n",
    "\n",
    "Download the timeseries Real Gross Domestic Product (GDPC1) from FRED (https://fred.stlouisfed.org/series/GDPC1). Calculate year-over-year (YoY) growth rate (that is, divide current value to one 4 quarters ago). Find the average YoY growth in 2023 (average from 4 YoY numbers). Round to 1 digit after the decimal point: e.g. if you get 5.66% growth => you should answer 5.7"
   ]
  },
  {
   "cell_type": "code",
   "execution_count": 3,
   "id": "d8f27726",
   "metadata": {},
   "outputs": [],
   "source": [
    "# Real Potential Gross Domestic Product (GDPPOT), Billions of Chained 2012 Dollars, QUARTERLY\n",
    "# https://fred.stlouisfed.org/series/GDPPOT\n",
    "gdpc = pdr.DataReader(\"GDPC1\", \"fred\", start= start,end=end)"
   ]
  },
  {
   "cell_type": "code",
   "execution_count": 4,
   "id": "a4616333",
   "metadata": {},
   "outputs": [
    {
     "data": {
      "text/html": [
       "<div>\n",
       "<style scoped>\n",
       "    .dataframe tbody tr th:only-of-type {\n",
       "        vertical-align: middle;\n",
       "    }\n",
       "\n",
       "    .dataframe tbody tr th {\n",
       "        vertical-align: top;\n",
       "    }\n",
       "\n",
       "    .dataframe thead th {\n",
       "        text-align: right;\n",
       "    }\n",
       "</style>\n",
       "<table border=\"1\" class=\"dataframe\">\n",
       "  <thead>\n",
       "    <tr style=\"text-align: right;\">\n",
       "      <th></th>\n",
       "      <th>GDPC1</th>\n",
       "    </tr>\n",
       "    <tr>\n",
       "      <th>DATE</th>\n",
       "      <th></th>\n",
       "    </tr>\n",
       "  </thead>\n",
       "  <tbody>\n",
       "    <tr>\n",
       "      <th>1954-04-01</th>\n",
       "      <td>2848.305</td>\n",
       "    </tr>\n",
       "    <tr>\n",
       "      <th>1954-07-01</th>\n",
       "      <td>2880.482</td>\n",
       "    </tr>\n",
       "    <tr>\n",
       "      <th>1954-10-01</th>\n",
       "      <td>2936.852</td>\n",
       "    </tr>\n",
       "    <tr>\n",
       "      <th>1955-01-01</th>\n",
       "      <td>3020.746</td>\n",
       "    </tr>\n",
       "    <tr>\n",
       "      <th>1955-04-01</th>\n",
       "      <td>3069.910</td>\n",
       "    </tr>\n",
       "    <tr>\n",
       "      <th>1955-07-01</th>\n",
       "      <td>3111.379</td>\n",
       "    </tr>\n",
       "    <tr>\n",
       "      <th>1955-10-01</th>\n",
       "      <td>3130.068</td>\n",
       "    </tr>\n",
       "    <tr>\n",
       "      <th>1956-01-01</th>\n",
       "      <td>3117.922</td>\n",
       "    </tr>\n",
       "    <tr>\n",
       "      <th>1956-04-01</th>\n",
       "      <td>3143.694</td>\n",
       "    </tr>\n",
       "    <tr>\n",
       "      <th>1956-07-01</th>\n",
       "      <td>3140.874</td>\n",
       "    </tr>\n",
       "    <tr>\n",
       "      <th>1956-10-01</th>\n",
       "      <td>3192.570</td>\n",
       "    </tr>\n",
       "    <tr>\n",
       "      <th>1957-01-01</th>\n",
       "      <td>3213.011</td>\n",
       "    </tr>\n",
       "  </tbody>\n",
       "</table>\n",
       "</div>"
      ],
      "text/plain": [
       "               GDPC1\n",
       "DATE                \n",
       "1954-04-01  2848.305\n",
       "1954-07-01  2880.482\n",
       "1954-10-01  2936.852\n",
       "1955-01-01  3020.746\n",
       "1955-04-01  3069.910\n",
       "1955-07-01  3111.379\n",
       "1955-10-01  3130.068\n",
       "1956-01-01  3117.922\n",
       "1956-04-01  3143.694\n",
       "1956-07-01  3140.874\n",
       "1956-10-01  3192.570\n",
       "1957-01-01  3213.011"
      ]
     },
     "execution_count": 4,
     "metadata": {},
     "output_type": "execute_result"
    }
   ],
   "source": [
    "gdpc.head(12)"
   ]
  },
  {
   "cell_type": "code",
   "execution_count": 5,
   "id": "ded1cb9a",
   "metadata": {},
   "outputs": [],
   "source": [
    "gdpc['gdpIn_yoy'] = gdpc.GDPC1/gdpc.GDPC1.shift(4)-1"
   ]
  },
  {
   "cell_type": "code",
   "execution_count": 6,
   "id": "e7ecaaf8",
   "metadata": {},
   "outputs": [
    {
     "data": {
      "text/html": [
       "<div>\n",
       "<style scoped>\n",
       "    .dataframe tbody tr th:only-of-type {\n",
       "        vertical-align: middle;\n",
       "    }\n",
       "\n",
       "    .dataframe tbody tr th {\n",
       "        vertical-align: top;\n",
       "    }\n",
       "\n",
       "    .dataframe thead th {\n",
       "        text-align: right;\n",
       "    }\n",
       "</style>\n",
       "<table border=\"1\" class=\"dataframe\">\n",
       "  <thead>\n",
       "    <tr style=\"text-align: right;\">\n",
       "      <th></th>\n",
       "      <th>GDPC1</th>\n",
       "      <th>gdpIn_yoy</th>\n",
       "    </tr>\n",
       "    <tr>\n",
       "      <th>DATE</th>\n",
       "      <th></th>\n",
       "      <th></th>\n",
       "    </tr>\n",
       "  </thead>\n",
       "  <tbody>\n",
       "    <tr>\n",
       "      <th>1954-04-01</th>\n",
       "      <td>2848.305</td>\n",
       "      <td>NaN</td>\n",
       "    </tr>\n",
       "    <tr>\n",
       "      <th>1954-07-01</th>\n",
       "      <td>2880.482</td>\n",
       "      <td>NaN</td>\n",
       "    </tr>\n",
       "    <tr>\n",
       "      <th>1954-10-01</th>\n",
       "      <td>2936.852</td>\n",
       "      <td>NaN</td>\n",
       "    </tr>\n",
       "    <tr>\n",
       "      <th>1955-01-01</th>\n",
       "      <td>3020.746</td>\n",
       "      <td>NaN</td>\n",
       "    </tr>\n",
       "    <tr>\n",
       "      <th>1955-04-01</th>\n",
       "      <td>3069.910</td>\n",
       "      <td>0.077802</td>\n",
       "    </tr>\n",
       "    <tr>\n",
       "      <th>...</th>\n",
       "      <td>...</td>\n",
       "      <td>...</td>\n",
       "    </tr>\n",
       "    <tr>\n",
       "      <th>2022-10-01</th>\n",
       "      <td>21989.981</td>\n",
       "      <td>0.006517</td>\n",
       "    </tr>\n",
       "    <tr>\n",
       "      <th>2023-01-01</th>\n",
       "      <td>22112.329</td>\n",
       "      <td>0.017179</td>\n",
       "    </tr>\n",
       "    <tr>\n",
       "      <th>2023-04-01</th>\n",
       "      <td>22225.350</td>\n",
       "      <td>0.023825</td>\n",
       "    </tr>\n",
       "    <tr>\n",
       "      <th>2023-07-01</th>\n",
       "      <td>22490.692</td>\n",
       "      <td>0.029269</td>\n",
       "    </tr>\n",
       "    <tr>\n",
       "      <th>2023-10-01</th>\n",
       "      <td>22679.255</td>\n",
       "      <td>0.031345</td>\n",
       "    </tr>\n",
       "  </tbody>\n",
       "</table>\n",
       "<p>279 rows × 2 columns</p>\n",
       "</div>"
      ],
      "text/plain": [
       "                GDPC1  gdpIn_yoy\n",
       "DATE                            \n",
       "1954-04-01   2848.305        NaN\n",
       "1954-07-01   2880.482        NaN\n",
       "1954-10-01   2936.852        NaN\n",
       "1955-01-01   3020.746        NaN\n",
       "1955-04-01   3069.910   0.077802\n",
       "...               ...        ...\n",
       "2022-10-01  21989.981   0.006517\n",
       "2023-01-01  22112.329   0.017179\n",
       "2023-04-01  22225.350   0.023825\n",
       "2023-07-01  22490.692   0.029269\n",
       "2023-10-01  22679.255   0.031345\n",
       "\n",
       "[279 rows x 2 columns]"
      ]
     },
     "execution_count": 6,
     "metadata": {},
     "output_type": "execute_result"
    }
   ],
   "source": [
    "gdpc"
   ]
  },
  {
   "cell_type": "code",
   "execution_count": 7,
   "id": "0f8da4c4",
   "metadata": {},
   "outputs": [],
   "source": [
    "gdpc[\"year\"] = gdpc.index.year"
   ]
  },
  {
   "cell_type": "code",
   "execution_count": 8,
   "id": "f69c9fee",
   "metadata": {},
   "outputs": [
    {
     "data": {
      "text/html": [
       "<div>\n",
       "<style scoped>\n",
       "    .dataframe tbody tr th:only-of-type {\n",
       "        vertical-align: middle;\n",
       "    }\n",
       "\n",
       "    .dataframe tbody tr th {\n",
       "        vertical-align: top;\n",
       "    }\n",
       "\n",
       "    .dataframe thead th {\n",
       "        text-align: right;\n",
       "    }\n",
       "</style>\n",
       "<table border=\"1\" class=\"dataframe\">\n",
       "  <thead>\n",
       "    <tr style=\"text-align: right;\">\n",
       "      <th></th>\n",
       "      <th>GDPC1</th>\n",
       "      <th>gdpIn_yoy</th>\n",
       "      <th>year</th>\n",
       "    </tr>\n",
       "    <tr>\n",
       "      <th>DATE</th>\n",
       "      <th></th>\n",
       "      <th></th>\n",
       "      <th></th>\n",
       "    </tr>\n",
       "  </thead>\n",
       "  <tbody>\n",
       "    <tr>\n",
       "      <th>1954-04-01</th>\n",
       "      <td>2848.305</td>\n",
       "      <td>NaN</td>\n",
       "      <td>1954</td>\n",
       "    </tr>\n",
       "    <tr>\n",
       "      <th>1954-07-01</th>\n",
       "      <td>2880.482</td>\n",
       "      <td>NaN</td>\n",
       "      <td>1954</td>\n",
       "    </tr>\n",
       "    <tr>\n",
       "      <th>1954-10-01</th>\n",
       "      <td>2936.852</td>\n",
       "      <td>NaN</td>\n",
       "      <td>1954</td>\n",
       "    </tr>\n",
       "    <tr>\n",
       "      <th>1955-01-01</th>\n",
       "      <td>3020.746</td>\n",
       "      <td>NaN</td>\n",
       "      <td>1955</td>\n",
       "    </tr>\n",
       "    <tr>\n",
       "      <th>1955-04-01</th>\n",
       "      <td>3069.910</td>\n",
       "      <td>0.077802</td>\n",
       "      <td>1955</td>\n",
       "    </tr>\n",
       "    <tr>\n",
       "      <th>...</th>\n",
       "      <td>...</td>\n",
       "      <td>...</td>\n",
       "      <td>...</td>\n",
       "    </tr>\n",
       "    <tr>\n",
       "      <th>2022-10-01</th>\n",
       "      <td>21989.981</td>\n",
       "      <td>0.006517</td>\n",
       "      <td>2022</td>\n",
       "    </tr>\n",
       "    <tr>\n",
       "      <th>2023-01-01</th>\n",
       "      <td>22112.329</td>\n",
       "      <td>0.017179</td>\n",
       "      <td>2023</td>\n",
       "    </tr>\n",
       "    <tr>\n",
       "      <th>2023-04-01</th>\n",
       "      <td>22225.350</td>\n",
       "      <td>0.023825</td>\n",
       "      <td>2023</td>\n",
       "    </tr>\n",
       "    <tr>\n",
       "      <th>2023-07-01</th>\n",
       "      <td>22490.692</td>\n",
       "      <td>0.029269</td>\n",
       "      <td>2023</td>\n",
       "    </tr>\n",
       "    <tr>\n",
       "      <th>2023-10-01</th>\n",
       "      <td>22679.255</td>\n",
       "      <td>0.031345</td>\n",
       "      <td>2023</td>\n",
       "    </tr>\n",
       "  </tbody>\n",
       "</table>\n",
       "<p>279 rows × 3 columns</p>\n",
       "</div>"
      ],
      "text/plain": [
       "                GDPC1  gdpIn_yoy  year\n",
       "DATE                                  \n",
       "1954-04-01   2848.305        NaN  1954\n",
       "1954-07-01   2880.482        NaN  1954\n",
       "1954-10-01   2936.852        NaN  1954\n",
       "1955-01-01   3020.746        NaN  1955\n",
       "1955-04-01   3069.910   0.077802  1955\n",
       "...               ...        ...   ...\n",
       "2022-10-01  21989.981   0.006517  2022\n",
       "2023-01-01  22112.329   0.017179  2023\n",
       "2023-04-01  22225.350   0.023825  2023\n",
       "2023-07-01  22490.692   0.029269  2023\n",
       "2023-10-01  22679.255   0.031345  2023\n",
       "\n",
       "[279 rows x 3 columns]"
      ]
     },
     "execution_count": 8,
     "metadata": {},
     "output_type": "execute_result"
    }
   ],
   "source": [
    "gdpc"
   ]
  },
  {
   "cell_type": "code",
   "execution_count": 28,
   "id": "6ca6aa81",
   "metadata": {},
   "outputs": [
    {
     "data": {
      "text/plain": [
       "0.02540443392867625"
      ]
     },
     "execution_count": 28,
     "metadata": {},
     "output_type": "execute_result"
    }
   ],
   "source": [
    "gdpc.groupby([\"year\"]).mean([\"gdpIn_yoy\"]).loc[2023][\"gdpIn_yoy\"]"
   ]
  },
  {
   "cell_type": "code",
   "execution_count": 32,
   "id": "d7db1628",
   "metadata": {},
   "outputs": [
    {
     "data": {
      "text/plain": [
       "2.5"
      ]
     },
     "execution_count": 32,
     "metadata": {},
     "output_type": "execute_result"
    }
   ],
   "source": [
    "round(gdpc.groupby([\"year\"]).mean([\"gdpIn_yoy\"]).loc[2023][\"gdpIn_yoy\"] * 100 ,1)"
   ]
  },
  {
   "cell_type": "code",
   "execution_count": 35,
   "id": "86c1fcfa",
   "metadata": {},
   "outputs": [
    {
     "name": "stdout",
     "output_type": "stream",
     "text": [
      "2.54%\n"
     ]
    }
   ],
   "source": [
    "print(Percent(gdpc.groupby([\"year\"]).mean([\"gdpIn_yoy\"]).loc[2023][\"gdpIn_yoy\"]))"
   ]
  },
  {
   "cell_type": "markdown",
   "id": "535a014c",
   "metadata": {},
   "source": [
    "#### Question 2. [Macro] Inverse \"Treasury Yield\"\n",
    "Find the min value of (dgs10-dgs2) after since year 2000 (2000-01-01) and write it down as an answer, round to 1 digit after the decimal point.\n",
    "\n",
    "Download DGS2 and DGS10 interest rates series (https://fred.stlouisfed.org/series/DGS2, https://fred.stlouisfed.org/series/DGS10). Join them together to one dataframe on date (you might need to read about pandas.DataFrame.join()), calculate the difference dgs10-dgs2 daily.\n",
    "\n",
    "(Additional: think about what does the \"inverted yield curve\" mean for the market and investors? do you see the same thing in your country/market of interest? Do you think it can be a good predictive feature for the models?)"
   ]
  },
  {
   "cell_type": "code",
   "execution_count": 10,
   "id": "ef0eae2e",
   "metadata": {},
   "outputs": [],
   "source": [
    "df_dgs2 = pdr.DataReader(\"DGS2\",\"fred\",start=datetime.datetime(2000,1,1),end = end)\n",
    "df_dgs10 = pdr.DataReader(\"DGS10\",\"fred\",start=datetime.datetime(2000,1,1),end = end)"
   ]
  },
  {
   "cell_type": "code",
   "execution_count": 11,
   "id": "e748ae28",
   "metadata": {},
   "outputs": [
    {
     "data": {
      "text/html": [
       "<div>\n",
       "<style scoped>\n",
       "    .dataframe tbody tr th:only-of-type {\n",
       "        vertical-align: middle;\n",
       "    }\n",
       "\n",
       "    .dataframe tbody tr th {\n",
       "        vertical-align: top;\n",
       "    }\n",
       "\n",
       "    .dataframe thead th {\n",
       "        text-align: right;\n",
       "    }\n",
       "</style>\n",
       "<table border=\"1\" class=\"dataframe\">\n",
       "  <thead>\n",
       "    <tr style=\"text-align: right;\">\n",
       "      <th></th>\n",
       "      <th>DGS10</th>\n",
       "    </tr>\n",
       "    <tr>\n",
       "      <th>DATE</th>\n",
       "      <th></th>\n",
       "    </tr>\n",
       "  </thead>\n",
       "  <tbody>\n",
       "    <tr>\n",
       "      <th>2000-01-03</th>\n",
       "      <td>6.58</td>\n",
       "    </tr>\n",
       "    <tr>\n",
       "      <th>2000-01-04</th>\n",
       "      <td>6.49</td>\n",
       "    </tr>\n",
       "    <tr>\n",
       "      <th>2000-01-05</th>\n",
       "      <td>6.62</td>\n",
       "    </tr>\n",
       "    <tr>\n",
       "      <th>2000-01-06</th>\n",
       "      <td>6.57</td>\n",
       "    </tr>\n",
       "    <tr>\n",
       "      <th>2000-01-07</th>\n",
       "      <td>6.52</td>\n",
       "    </tr>\n",
       "  </tbody>\n",
       "</table>\n",
       "</div>"
      ],
      "text/plain": [
       "            DGS10\n",
       "DATE             \n",
       "2000-01-03   6.58\n",
       "2000-01-04   6.49\n",
       "2000-01-05   6.62\n",
       "2000-01-06   6.57\n",
       "2000-01-07   6.52"
      ]
     },
     "execution_count": 11,
     "metadata": {},
     "output_type": "execute_result"
    }
   ],
   "source": [
    "df_dgs10.head()"
   ]
  },
  {
   "cell_type": "code",
   "execution_count": 12,
   "id": "07a5c393",
   "metadata": {},
   "outputs": [
    {
     "data": {
      "text/html": [
       "<div>\n",
       "<style scoped>\n",
       "    .dataframe tbody tr th:only-of-type {\n",
       "        vertical-align: middle;\n",
       "    }\n",
       "\n",
       "    .dataframe tbody tr th {\n",
       "        vertical-align: top;\n",
       "    }\n",
       "\n",
       "    .dataframe thead th {\n",
       "        text-align: right;\n",
       "    }\n",
       "</style>\n",
       "<table border=\"1\" class=\"dataframe\">\n",
       "  <thead>\n",
       "    <tr style=\"text-align: right;\">\n",
       "      <th></th>\n",
       "      <th>DGS2</th>\n",
       "    </tr>\n",
       "    <tr>\n",
       "      <th>DATE</th>\n",
       "      <th></th>\n",
       "    </tr>\n",
       "  </thead>\n",
       "  <tbody>\n",
       "    <tr>\n",
       "      <th>2000-01-03</th>\n",
       "      <td>6.38</td>\n",
       "    </tr>\n",
       "    <tr>\n",
       "      <th>2000-01-04</th>\n",
       "      <td>6.30</td>\n",
       "    </tr>\n",
       "    <tr>\n",
       "      <th>2000-01-05</th>\n",
       "      <td>6.38</td>\n",
       "    </tr>\n",
       "    <tr>\n",
       "      <th>2000-01-06</th>\n",
       "      <td>6.35</td>\n",
       "    </tr>\n",
       "    <tr>\n",
       "      <th>2000-01-07</th>\n",
       "      <td>6.31</td>\n",
       "    </tr>\n",
       "  </tbody>\n",
       "</table>\n",
       "</div>"
      ],
      "text/plain": [
       "            DGS2\n",
       "DATE            \n",
       "2000-01-03  6.38\n",
       "2000-01-04  6.30\n",
       "2000-01-05  6.38\n",
       "2000-01-06  6.35\n",
       "2000-01-07  6.31"
      ]
     },
     "execution_count": 12,
     "metadata": {},
     "output_type": "execute_result"
    }
   ],
   "source": [
    "df_dgs2.head()"
   ]
  },
  {
   "cell_type": "code",
   "execution_count": 13,
   "id": "8bcc3839",
   "metadata": {},
   "outputs": [],
   "source": [
    "joined_dfDgd = df_dgs10.join(df_dgs2, lsuffix='_caller', rsuffix='_other')"
   ]
  },
  {
   "cell_type": "code",
   "execution_count": 14,
   "id": "19c6578e",
   "metadata": {},
   "outputs": [
    {
     "data": {
      "text/html": [
       "<div>\n",
       "<style scoped>\n",
       "    .dataframe tbody tr th:only-of-type {\n",
       "        vertical-align: middle;\n",
       "    }\n",
       "\n",
       "    .dataframe tbody tr th {\n",
       "        vertical-align: top;\n",
       "    }\n",
       "\n",
       "    .dataframe thead th {\n",
       "        text-align: right;\n",
       "    }\n",
       "</style>\n",
       "<table border=\"1\" class=\"dataframe\">\n",
       "  <thead>\n",
       "    <tr style=\"text-align: right;\">\n",
       "      <th></th>\n",
       "      <th>DGS10</th>\n",
       "      <th>DGS2</th>\n",
       "    </tr>\n",
       "    <tr>\n",
       "      <th>DATE</th>\n",
       "      <th></th>\n",
       "      <th></th>\n",
       "    </tr>\n",
       "  </thead>\n",
       "  <tbody>\n",
       "    <tr>\n",
       "      <th>2000-01-03</th>\n",
       "      <td>6.58</td>\n",
       "      <td>6.38</td>\n",
       "    </tr>\n",
       "    <tr>\n",
       "      <th>2000-01-04</th>\n",
       "      <td>6.49</td>\n",
       "      <td>6.30</td>\n",
       "    </tr>\n",
       "    <tr>\n",
       "      <th>2000-01-05</th>\n",
       "      <td>6.62</td>\n",
       "      <td>6.38</td>\n",
       "    </tr>\n",
       "    <tr>\n",
       "      <th>2000-01-06</th>\n",
       "      <td>6.57</td>\n",
       "      <td>6.35</td>\n",
       "    </tr>\n",
       "    <tr>\n",
       "      <th>2000-01-07</th>\n",
       "      <td>6.52</td>\n",
       "      <td>6.31</td>\n",
       "    </tr>\n",
       "  </tbody>\n",
       "</table>\n",
       "</div>"
      ],
      "text/plain": [
       "            DGS10  DGS2\n",
       "DATE                   \n",
       "2000-01-03   6.58  6.38\n",
       "2000-01-04   6.49  6.30\n",
       "2000-01-05   6.62  6.38\n",
       "2000-01-06   6.57  6.35\n",
       "2000-01-07   6.52  6.31"
      ]
     },
     "execution_count": 14,
     "metadata": {},
     "output_type": "execute_result"
    }
   ],
   "source": [
    "joined_dfDgd.head()"
   ]
  },
  {
   "cell_type": "code",
   "execution_count": 15,
   "id": "81525eb7",
   "metadata": {},
   "outputs": [
    {
     "data": {
      "text/plain": [
       "-1.1"
      ]
     },
     "execution_count": 15,
     "metadata": {},
     "output_type": "execute_result"
    }
   ],
   "source": [
    "round(min(joined_dfDgd[\"DGS10\"] - joined_dfDgd[\"DGS2\"]),1)"
   ]
  },
  {
   "cell_type": "markdown",
   "id": "10dca98f",
   "metadata": {},
   "source": [
    "#### Question 3. [Index] Which Index is better recently?\n",
    "Compare S&P 500 and IPC Mexico indexes by the 5 year growth and write down the largest value as an answer (%)\n",
    "\n",
    "Download on Yahoo Finance two daily index prices for S&P 500 (^GSPC, https://finance.yahoo.com/quote/%5EGSPC/) and IPC Mexico (^MXX, https://finance.yahoo.com/quote/%5EMXX/). Compare 5Y growth for both (between 2019-04-09 and 2024-04-09). Select the higher growing index and write down the growth in % (closest integer %). E.g. if ratio end/start was 2.0925 (or growth of 109.25%), you need to write down 109 as your answer.\n",
    "\n",
    "(Additional: think of other indexes and try to download stats and compare the growth? Do create 10Y and 20Y growth stats. What is an average yearly growth rate (CAGR) for each of the indexes you select?)"
   ]
  },
  {
   "cell_type": "code",
   "execution_count": 37,
   "id": "a4c336eb",
   "metadata": {},
   "outputs": [
    {
     "name": "stdout",
     "output_type": "stream",
     "text": [
      "Period for indexes: 1954-01-02 to 2024-04-22 \n"
     ]
    }
   ],
   "source": [
    "startIdx = date(year=end.year-5, month=end.month-3, day=end.day - 20)\n",
    "print(f'Period for indexes: {start} to {end} ')"
   ]
  },
  {
   "cell_type": "code",
   "execution_count": 124,
   "id": "4c927182",
   "metadata": {},
   "outputs": [],
   "source": [
    "def get_current_price(symbol):\n",
    "    historical_data = yf.download(tickers = symbol,\n",
    "                     period = \"max\",\n",
    "                     interval = \"1d\")\n",
    "    return historical_data"
   ]
  },
  {
   "cell_type": "code",
   "execution_count": 90,
   "id": "5147a34e",
   "metadata": {},
   "outputs": [
    {
     "data": {
      "text/html": [
       "<div>\n",
       "<style scoped>\n",
       "    .dataframe tbody tr th:only-of-type {\n",
       "        vertical-align: middle;\n",
       "    }\n",
       "\n",
       "    .dataframe tbody tr th {\n",
       "        vertical-align: top;\n",
       "    }\n",
       "\n",
       "    .dataframe thead th {\n",
       "        text-align: right;\n",
       "    }\n",
       "</style>\n",
       "<table border=\"1\" class=\"dataframe\">\n",
       "  <thead>\n",
       "    <tr style=\"text-align: right;\">\n",
       "      <th></th>\n",
       "      <th>Open</th>\n",
       "      <th>High</th>\n",
       "      <th>Low</th>\n",
       "      <th>Close</th>\n",
       "      <th>Volume</th>\n",
       "      <th>Dividends</th>\n",
       "      <th>Stock Splits</th>\n",
       "    </tr>\n",
       "    <tr>\n",
       "      <th>Date</th>\n",
       "      <th></th>\n",
       "      <th></th>\n",
       "      <th></th>\n",
       "      <th></th>\n",
       "      <th></th>\n",
       "      <th></th>\n",
       "      <th></th>\n",
       "    </tr>\n",
       "  </thead>\n",
       "  <tbody>\n",
       "    <tr>\n",
       "      <th>2024-04-15 00:00:00-04:00</th>\n",
       "      <td>5149.669922</td>\n",
       "      <td>5168.430176</td>\n",
       "      <td>5052.470215</td>\n",
       "      <td>5061.819824</td>\n",
       "      <td>3950210000</td>\n",
       "      <td>0.0</td>\n",
       "      <td>0.0</td>\n",
       "    </tr>\n",
       "    <tr>\n",
       "      <th>2024-04-16 00:00:00-04:00</th>\n",
       "      <td>5064.589844</td>\n",
       "      <td>5079.839844</td>\n",
       "      <td>5039.830078</td>\n",
       "      <td>5051.410156</td>\n",
       "      <td>4006200000</td>\n",
       "      <td>0.0</td>\n",
       "      <td>0.0</td>\n",
       "    </tr>\n",
       "    <tr>\n",
       "      <th>2024-04-17 00:00:00-04:00</th>\n",
       "      <td>5068.970215</td>\n",
       "      <td>5077.959961</td>\n",
       "      <td>5007.250000</td>\n",
       "      <td>5022.209961</td>\n",
       "      <td>3596130000</td>\n",
       "      <td>0.0</td>\n",
       "      <td>0.0</td>\n",
       "    </tr>\n",
       "    <tr>\n",
       "      <th>2024-04-18 00:00:00-04:00</th>\n",
       "      <td>5031.520020</td>\n",
       "      <td>5056.660156</td>\n",
       "      <td>5001.890137</td>\n",
       "      <td>5011.120117</td>\n",
       "      <td>3619760000</td>\n",
       "      <td>0.0</td>\n",
       "      <td>0.0</td>\n",
       "    </tr>\n",
       "    <tr>\n",
       "      <th>2024-04-19 00:00:00-04:00</th>\n",
       "      <td>5005.439941</td>\n",
       "      <td>5019.020020</td>\n",
       "      <td>4953.560059</td>\n",
       "      <td>4967.229980</td>\n",
       "      <td>3878750000</td>\n",
       "      <td>0.0</td>\n",
       "      <td>0.0</td>\n",
       "    </tr>\n",
       "  </tbody>\n",
       "</table>\n",
       "</div>"
      ],
      "text/plain": [
       "                                  Open         High          Low        Close  \\\n",
       "Date                                                                            \n",
       "2024-04-15 00:00:00-04:00  5149.669922  5168.430176  5052.470215  5061.819824   \n",
       "2024-04-16 00:00:00-04:00  5064.589844  5079.839844  5039.830078  5051.410156   \n",
       "2024-04-17 00:00:00-04:00  5068.970215  5077.959961  5007.250000  5022.209961   \n",
       "2024-04-18 00:00:00-04:00  5031.520020  5056.660156  5001.890137  5011.120117   \n",
       "2024-04-19 00:00:00-04:00  5005.439941  5019.020020  4953.560059  4967.229980   \n",
       "\n",
       "                               Volume  Dividends  Stock Splits  \n",
       "Date                                                            \n",
       "2024-04-15 00:00:00-04:00  3950210000        0.0           0.0  \n",
       "2024-04-16 00:00:00-04:00  4006200000        0.0           0.0  \n",
       "2024-04-17 00:00:00-04:00  3596130000        0.0           0.0  \n",
       "2024-04-18 00:00:00-04:00  3619760000        0.0           0.0  \n",
       "2024-04-19 00:00:00-04:00  3878750000        0.0           0.0  "
      ]
     },
     "execution_count": 90,
     "metadata": {},
     "output_type": "execute_result"
    }
   ],
   "source": [
    "data.tail()"
   ]
  },
  {
   "cell_type": "code",
   "execution_count": 125,
   "id": "6778c6ce",
   "metadata": {},
   "outputs": [
    {
     "name": "stderr",
     "output_type": "stream",
     "text": [
      "[*********************100%%**********************]  1 of 1 completed\n"
     ]
    }
   ],
   "source": [
    "snp500Idx = get_current_price('^GSPC')"
   ]
  },
  {
   "cell_type": "code",
   "execution_count": 127,
   "id": "0f475509",
   "metadata": {},
   "outputs": [
    {
     "data": {
      "text/plain": [
       "(24191, 6)"
      ]
     },
     "execution_count": 127,
     "metadata": {},
     "output_type": "execute_result"
    }
   ],
   "source": [
    "snp500Idx.shape"
   ]
  },
  {
   "cell_type": "code",
   "execution_count": 128,
   "id": "3b8aefc2",
   "metadata": {},
   "outputs": [
    {
     "name": "stderr",
     "output_type": "stream",
     "text": [
      "[*********************100%%**********************]  1 of 1 completed\n"
     ]
    }
   ],
   "source": [
    "mxxIdx = get_current_price('^MXX')"
   ]
  },
  {
   "cell_type": "code",
   "execution_count": 129,
   "id": "b3f57ced",
   "metadata": {},
   "outputs": [
    {
     "data": {
      "text/html": [
       "<div>\n",
       "<style scoped>\n",
       "    .dataframe tbody tr th:only-of-type {\n",
       "        vertical-align: middle;\n",
       "    }\n",
       "\n",
       "    .dataframe tbody tr th {\n",
       "        vertical-align: top;\n",
       "    }\n",
       "\n",
       "    .dataframe thead th {\n",
       "        text-align: right;\n",
       "    }\n",
       "</style>\n",
       "<table border=\"1\" class=\"dataframe\">\n",
       "  <thead>\n",
       "    <tr style=\"text-align: right;\">\n",
       "      <th></th>\n",
       "      <th>Open</th>\n",
       "      <th>High</th>\n",
       "      <th>Low</th>\n",
       "      <th>Close</th>\n",
       "      <th>Adj Close</th>\n",
       "      <th>Volume</th>\n",
       "    </tr>\n",
       "    <tr>\n",
       "      <th>Date</th>\n",
       "      <th></th>\n",
       "      <th></th>\n",
       "      <th></th>\n",
       "      <th></th>\n",
       "      <th></th>\n",
       "      <th></th>\n",
       "    </tr>\n",
       "  </thead>\n",
       "  <tbody>\n",
       "    <tr>\n",
       "      <th>2024-04-15</th>\n",
       "      <td>56536.468750</td>\n",
       "      <td>56709.121094</td>\n",
       "      <td>55924.101562</td>\n",
       "      <td>55984.000000</td>\n",
       "      <td>55984.000000</td>\n",
       "      <td>170645700</td>\n",
       "    </tr>\n",
       "    <tr>\n",
       "      <th>2024-04-16</th>\n",
       "      <td>56009.730469</td>\n",
       "      <td>56148.000000</td>\n",
       "      <td>55626.750000</td>\n",
       "      <td>55797.250000</td>\n",
       "      <td>55797.250000</td>\n",
       "      <td>225862900</td>\n",
       "    </tr>\n",
       "    <tr>\n",
       "      <th>2024-04-17</th>\n",
       "      <td>55788.738281</td>\n",
       "      <td>56090.320312</td>\n",
       "      <td>55383.250000</td>\n",
       "      <td>55415.691406</td>\n",
       "      <td>55415.691406</td>\n",
       "      <td>244258900</td>\n",
       "    </tr>\n",
       "    <tr>\n",
       "      <th>2024-04-18</th>\n",
       "      <td>55597.789062</td>\n",
       "      <td>55941.621094</td>\n",
       "      <td>55585.820312</td>\n",
       "      <td>55739.429688</td>\n",
       "      <td>55739.429688</td>\n",
       "      <td>208671900</td>\n",
       "    </tr>\n",
       "    <tr>\n",
       "      <th>2024-04-19</th>\n",
       "      <td>55811.191406</td>\n",
       "      <td>56036.718750</td>\n",
       "      <td>55579.691406</td>\n",
       "      <td>55862.851562</td>\n",
       "      <td>55862.851562</td>\n",
       "      <td>138617600</td>\n",
       "    </tr>\n",
       "  </tbody>\n",
       "</table>\n",
       "</div>"
      ],
      "text/plain": [
       "                    Open          High           Low         Close  \\\n",
       "Date                                                                 \n",
       "2024-04-15  56536.468750  56709.121094  55924.101562  55984.000000   \n",
       "2024-04-16  56009.730469  56148.000000  55626.750000  55797.250000   \n",
       "2024-04-17  55788.738281  56090.320312  55383.250000  55415.691406   \n",
       "2024-04-18  55597.789062  55941.621094  55585.820312  55739.429688   \n",
       "2024-04-19  55811.191406  56036.718750  55579.691406  55862.851562   \n",
       "\n",
       "               Adj Close     Volume  \n",
       "Date                                 \n",
       "2024-04-15  55984.000000  170645700  \n",
       "2024-04-16  55797.250000  225862900  \n",
       "2024-04-17  55415.691406  244258900  \n",
       "2024-04-18  55739.429688  208671900  \n",
       "2024-04-19  55862.851562  138617600  "
      ]
     },
     "execution_count": 129,
     "metadata": {},
     "output_type": "execute_result"
    }
   ],
   "source": [
    "mxxIdx.tail()"
   ]
  },
  {
   "cell_type": "code",
   "execution_count": 131,
   "id": "b044a689",
   "metadata": {},
   "outputs": [
    {
     "data": {
      "text/html": [
       "<div>\n",
       "<style scoped>\n",
       "    .dataframe tbody tr th:only-of-type {\n",
       "        vertical-align: middle;\n",
       "    }\n",
       "\n",
       "    .dataframe tbody tr th {\n",
       "        vertical-align: top;\n",
       "    }\n",
       "\n",
       "    .dataframe thead th {\n",
       "        text-align: right;\n",
       "    }\n",
       "</style>\n",
       "<table border=\"1\" class=\"dataframe\">\n",
       "  <thead>\n",
       "    <tr style=\"text-align: right;\">\n",
       "      <th></th>\n",
       "      <th>Open</th>\n",
       "      <th>High</th>\n",
       "      <th>Low</th>\n",
       "      <th>Close</th>\n",
       "      <th>Adj Close</th>\n",
       "      <th>Volume</th>\n",
       "      <th>change</th>\n",
       "    </tr>\n",
       "    <tr>\n",
       "      <th>Date</th>\n",
       "      <th></th>\n",
       "      <th></th>\n",
       "      <th></th>\n",
       "      <th></th>\n",
       "      <th></th>\n",
       "      <th></th>\n",
       "      <th></th>\n",
       "    </tr>\n",
       "  </thead>\n",
       "  <tbody>\n",
       "    <tr>\n",
       "      <th>1927-12-30</th>\n",
       "      <td>17.660000</td>\n",
       "      <td>17.660000</td>\n",
       "      <td>17.660000</td>\n",
       "      <td>17.660000</td>\n",
       "      <td>17.660000</td>\n",
       "      <td>0</td>\n",
       "      <td>NaN</td>\n",
       "    </tr>\n",
       "    <tr>\n",
       "      <th>1928-01-03</th>\n",
       "      <td>17.760000</td>\n",
       "      <td>17.760000</td>\n",
       "      <td>17.760000</td>\n",
       "      <td>17.760000</td>\n",
       "      <td>17.760000</td>\n",
       "      <td>0</td>\n",
       "      <td>0.005663</td>\n",
       "    </tr>\n",
       "    <tr>\n",
       "      <th>1928-01-04</th>\n",
       "      <td>17.719999</td>\n",
       "      <td>17.719999</td>\n",
       "      <td>17.719999</td>\n",
       "      <td>17.719999</td>\n",
       "      <td>17.719999</td>\n",
       "      <td>0</td>\n",
       "      <td>-0.002252</td>\n",
       "    </tr>\n",
       "    <tr>\n",
       "      <th>1928-01-05</th>\n",
       "      <td>17.549999</td>\n",
       "      <td>17.549999</td>\n",
       "      <td>17.549999</td>\n",
       "      <td>17.549999</td>\n",
       "      <td>17.549999</td>\n",
       "      <td>0</td>\n",
       "      <td>-0.009594</td>\n",
       "    </tr>\n",
       "    <tr>\n",
       "      <th>1928-01-06</th>\n",
       "      <td>17.660000</td>\n",
       "      <td>17.660000</td>\n",
       "      <td>17.660000</td>\n",
       "      <td>17.660000</td>\n",
       "      <td>17.660000</td>\n",
       "      <td>0</td>\n",
       "      <td>0.006268</td>\n",
       "    </tr>\n",
       "  </tbody>\n",
       "</table>\n",
       "</div>"
      ],
      "text/plain": [
       "                 Open       High        Low      Close  Adj Close  Volume  \\\n",
       "Date                                                                        \n",
       "1927-12-30  17.660000  17.660000  17.660000  17.660000  17.660000       0   \n",
       "1928-01-03  17.760000  17.760000  17.760000  17.760000  17.760000       0   \n",
       "1928-01-04  17.719999  17.719999  17.719999  17.719999  17.719999       0   \n",
       "1928-01-05  17.549999  17.549999  17.549999  17.549999  17.549999       0   \n",
       "1928-01-06  17.660000  17.660000  17.660000  17.660000  17.660000       0   \n",
       "\n",
       "              change  \n",
       "Date                  \n",
       "1927-12-30       NaN  \n",
       "1928-01-03  0.005663  \n",
       "1928-01-04 -0.002252  \n",
       "1928-01-05 -0.009594  \n",
       "1928-01-06  0.006268  "
      ]
     },
     "execution_count": 131,
     "metadata": {},
     "output_type": "execute_result"
    }
   ],
   "source": [
    "snp500Idx.head()"
   ]
  },
  {
   "cell_type": "code",
   "execution_count": 132,
   "id": "795b76fd",
   "metadata": {},
   "outputs": [],
   "source": [
    "# normally 252 trading days\n",
    "snp500Idx['adj_close_last_year'] = snp500Idx['Adj Close'].shift(252)\n",
    "snp500Idx['yoy_growth'] = snp500Idx['Adj Close'] / snp500Idx['adj_close_last_year'] -1"
   ]
  },
  {
   "cell_type": "code",
   "execution_count": 133,
   "id": "2b619385",
   "metadata": {},
   "outputs": [],
   "source": [
    "# normally 252 trading days\n",
    "mxxIdx['adj_close_last_year'] = mxxIdx['Adj Close'].shift(252)\n",
    "mxxIdx['yoy_growth'] = mxxIdx['Adj Close'] / mxxIdx['adj_close_last_year'] -1"
   ]
  },
  {
   "cell_type": "code",
   "execution_count": 134,
   "id": "9eb3801f",
   "metadata": {},
   "outputs": [],
   "source": [
    "snp500Idx_truncated = snp500Idx[(snp500Idx.index>='2019-04-09')  & (snp500Idx.index <='2024-04-09')]\n",
    "mxxIdx_truncated = mxxIdx[(mxxIdx.index>='2019-04-09')  & (mxxIdx.index <='2024-04-09')]"
   ]
  },
  {
   "cell_type": "code",
   "execution_count": 146,
   "id": "6990459d",
   "metadata": {},
   "outputs": [
    {
     "data": {
      "text/html": [
       "<div>\n",
       "<style scoped>\n",
       "    .dataframe tbody tr th:only-of-type {\n",
       "        vertical-align: middle;\n",
       "    }\n",
       "\n",
       "    .dataframe tbody tr th {\n",
       "        vertical-align: top;\n",
       "    }\n",
       "\n",
       "    .dataframe thead th {\n",
       "        text-align: right;\n",
       "    }\n",
       "</style>\n",
       "<table border=\"1\" class=\"dataframe\">\n",
       "  <thead>\n",
       "    <tr style=\"text-align: right;\">\n",
       "      <th></th>\n",
       "      <th>Open</th>\n",
       "      <th>High</th>\n",
       "      <th>Low</th>\n",
       "      <th>Close</th>\n",
       "      <th>Adj Close</th>\n",
       "      <th>Volume</th>\n",
       "      <th>change</th>\n",
       "      <th>adj_close_last_year</th>\n",
       "      <th>yoy_growth</th>\n",
       "    </tr>\n",
       "    <tr>\n",
       "      <th>Date</th>\n",
       "      <th></th>\n",
       "      <th></th>\n",
       "      <th></th>\n",
       "      <th></th>\n",
       "      <th></th>\n",
       "      <th></th>\n",
       "      <th></th>\n",
       "      <th></th>\n",
       "      <th></th>\n",
       "    </tr>\n",
       "  </thead>\n",
       "  <tbody>\n",
       "    <tr>\n",
       "      <th>2024-04-03</th>\n",
       "      <td>5194.370117</td>\n",
       "      <td>5228.750000</td>\n",
       "      <td>5194.370117</td>\n",
       "      <td>5211.490234</td>\n",
       "      <td>5211.490234</td>\n",
       "      <td>3703250000</td>\n",
       "      <td>0.001091</td>\n",
       "      <td>4109.310059</td>\n",
       "      <td>0.268215</td>\n",
       "    </tr>\n",
       "    <tr>\n",
       "      <th>2024-04-04</th>\n",
       "      <td>5244.049805</td>\n",
       "      <td>5256.589844</td>\n",
       "      <td>5146.060059</td>\n",
       "      <td>5147.209961</td>\n",
       "      <td>5147.209961</td>\n",
       "      <td>4075680000</td>\n",
       "      <td>-0.012334</td>\n",
       "      <td>4124.509766</td>\n",
       "      <td>0.247957</td>\n",
       "    </tr>\n",
       "    <tr>\n",
       "      <th>2024-04-05</th>\n",
       "      <td>5158.950195</td>\n",
       "      <td>5222.180176</td>\n",
       "      <td>5157.209961</td>\n",
       "      <td>5204.339844</td>\n",
       "      <td>5204.339844</td>\n",
       "      <td>3386780000</td>\n",
       "      <td>0.011099</td>\n",
       "      <td>4100.600098</td>\n",
       "      <td>0.269165</td>\n",
       "    </tr>\n",
       "    <tr>\n",
       "      <th>2024-04-08</th>\n",
       "      <td>5211.370117</td>\n",
       "      <td>5219.569824</td>\n",
       "      <td>5197.350098</td>\n",
       "      <td>5202.390137</td>\n",
       "      <td>5202.390137</td>\n",
       "      <td>3278180000</td>\n",
       "      <td>-0.000375</td>\n",
       "      <td>4090.379883</td>\n",
       "      <td>0.271860</td>\n",
       "    </tr>\n",
       "    <tr>\n",
       "      <th>2024-04-09</th>\n",
       "      <td>5217.029785</td>\n",
       "      <td>5224.810059</td>\n",
       "      <td>5160.779785</td>\n",
       "      <td>5209.910156</td>\n",
       "      <td>5209.910156</td>\n",
       "      <td>3400680000</td>\n",
       "      <td>0.001445</td>\n",
       "      <td>4105.020020</td>\n",
       "      <td>0.269156</td>\n",
       "    </tr>\n",
       "  </tbody>\n",
       "</table>\n",
       "</div>"
      ],
      "text/plain": [
       "                   Open         High          Low        Close    Adj Close  \\\n",
       "Date                                                                          \n",
       "2024-04-03  5194.370117  5228.750000  5194.370117  5211.490234  5211.490234   \n",
       "2024-04-04  5244.049805  5256.589844  5146.060059  5147.209961  5147.209961   \n",
       "2024-04-05  5158.950195  5222.180176  5157.209961  5204.339844  5204.339844   \n",
       "2024-04-08  5211.370117  5219.569824  5197.350098  5202.390137  5202.390137   \n",
       "2024-04-09  5217.029785  5224.810059  5160.779785  5209.910156  5209.910156   \n",
       "\n",
       "                Volume    change  adj_close_last_year  yoy_growth  \n",
       "Date                                                               \n",
       "2024-04-03  3703250000  0.001091          4109.310059    0.268215  \n",
       "2024-04-04  4075680000 -0.012334          4124.509766    0.247957  \n",
       "2024-04-05  3386780000  0.011099          4100.600098    0.269165  \n",
       "2024-04-08  3278180000 -0.000375          4090.379883    0.271860  \n",
       "2024-04-09  3400680000  0.001445          4105.020020    0.269156  "
      ]
     },
     "execution_count": 146,
     "metadata": {},
     "output_type": "execute_result"
    }
   ],
   "source": [
    "snp500Idx_truncated.tail()"
   ]
  },
  {
   "cell_type": "code",
   "execution_count": 136,
   "id": "e8e5ee71",
   "metadata": {},
   "outputs": [
    {
     "data": {
      "text/plain": [
       "<Axes: xlabel='Date'>"
      ]
     },
     "execution_count": 136,
     "metadata": {},
     "output_type": "execute_result"
    },
    {
     "data": {
      "image/png": "[encoded data removed]",
      "text/plain": [
       "<Figure size 640x480 with 1 Axes>"
      ]
     },
     "metadata": {},
     "output_type": "display_data"
    }
   ],
   "source": [
    "snp500Idx_truncated.Close.plot.line()"
   ]
  },
  {
   "cell_type": "code",
   "execution_count": 137,
   "id": "cc3eed93",
   "metadata": {},
   "outputs": [
    {
     "data": {
      "text/html": [
       "<div>\n",
       "<style scoped>\n",
       "    .dataframe tbody tr th:only-of-type {\n",
       "        vertical-align: middle;\n",
       "    }\n",
       "\n",
       "    .dataframe tbody tr th {\n",
       "        vertical-align: top;\n",
       "    }\n",
       "\n",
       "    .dataframe thead th {\n",
       "        text-align: right;\n",
       "    }\n",
       "</style>\n",
       "<table border=\"1\" class=\"dataframe\">\n",
       "  <thead>\n",
       "    <tr style=\"text-align: right;\">\n",
       "      <th></th>\n",
       "      <th>Open</th>\n",
       "      <th>High</th>\n",
       "      <th>Low</th>\n",
       "      <th>Close</th>\n",
       "      <th>Adj Close</th>\n",
       "      <th>Volume</th>\n",
       "      <th>adj_close_last_year</th>\n",
       "      <th>yoy_growth</th>\n",
       "    </tr>\n",
       "    <tr>\n",
       "      <th>Date</th>\n",
       "      <th></th>\n",
       "      <th></th>\n",
       "      <th></th>\n",
       "      <th></th>\n",
       "      <th></th>\n",
       "      <th></th>\n",
       "      <th></th>\n",
       "      <th></th>\n",
       "    </tr>\n",
       "  </thead>\n",
       "  <tbody>\n",
       "    <tr>\n",
       "      <th>2019-04-09</th>\n",
       "      <td>45346.828125</td>\n",
       "      <td>45346.828125</td>\n",
       "      <td>44854.531250</td>\n",
       "      <td>45151.628906</td>\n",
       "      <td>45151.628906</td>\n",
       "      <td>191575000</td>\n",
       "      <td>48331.511719</td>\n",
       "      <td>-0.065793</td>\n",
       "    </tr>\n",
       "    <tr>\n",
       "      <th>2019-04-10</th>\n",
       "      <td>45204.750000</td>\n",
       "      <td>45219.410156</td>\n",
       "      <td>44850.109375</td>\n",
       "      <td>44909.140625</td>\n",
       "      <td>44909.140625</td>\n",
       "      <td>145314900</td>\n",
       "      <td>48532.140625</td>\n",
       "      <td>-0.074652</td>\n",
       "    </tr>\n",
       "    <tr>\n",
       "      <th>2019-04-11</th>\n",
       "      <td>44872.531250</td>\n",
       "      <td>44966.500000</td>\n",
       "      <td>44373.488281</td>\n",
       "      <td>44580.058594</td>\n",
       "      <td>44580.058594</td>\n",
       "      <td>109090000</td>\n",
       "      <td>48782.558594</td>\n",
       "      <td>-0.086148</td>\n",
       "    </tr>\n",
       "    <tr>\n",
       "      <th>2019-04-12</th>\n",
       "      <td>44767.671875</td>\n",
       "      <td>44888.699219</td>\n",
       "      <td>44534.378906</td>\n",
       "      <td>44686.058594</td>\n",
       "      <td>44686.058594</td>\n",
       "      <td>143662400</td>\n",
       "      <td>48768.300781</td>\n",
       "      <td>-0.083707</td>\n",
       "    </tr>\n",
       "    <tr>\n",
       "      <th>2019-04-15</th>\n",
       "      <td>44649.738281</td>\n",
       "      <td>44900.929688</td>\n",
       "      <td>44347.531250</td>\n",
       "      <td>44625.781250</td>\n",
       "      <td>44625.781250</td>\n",
       "      <td>108627100</td>\n",
       "      <td>48434.390625</td>\n",
       "      <td>-0.078634</td>\n",
       "    </tr>\n",
       "  </tbody>\n",
       "</table>\n",
       "</div>"
      ],
      "text/plain": [
       "                    Open          High           Low         Close  \\\n",
       "Date                                                                 \n",
       "2019-04-09  45346.828125  45346.828125  44854.531250  45151.628906   \n",
       "2019-04-10  45204.750000  45219.410156  44850.109375  44909.140625   \n",
       "2019-04-11  44872.531250  44966.500000  44373.488281  44580.058594   \n",
       "2019-04-12  44767.671875  44888.699219  44534.378906  44686.058594   \n",
       "2019-04-15  44649.738281  44900.929688  44347.531250  44625.781250   \n",
       "\n",
       "               Adj Close     Volume  adj_close_last_year  yoy_growth  \n",
       "Date                                                                  \n",
       "2019-04-09  45151.628906  191575000         48331.511719   -0.065793  \n",
       "2019-04-10  44909.140625  145314900         48532.140625   -0.074652  \n",
       "2019-04-11  44580.058594  109090000         48782.558594   -0.086148  \n",
       "2019-04-12  44686.058594  143662400         48768.300781   -0.083707  \n",
       "2019-04-15  44625.781250  108627100         48434.390625   -0.078634  "
      ]
     },
     "execution_count": 137,
     "metadata": {},
     "output_type": "execute_result"
    }
   ],
   "source": [
    "mxxIdx_truncated.head()"
   ]
  },
  {
   "cell_type": "code",
   "execution_count": 139,
   "id": "023dd847",
   "metadata": {},
   "outputs": [
    {
     "data": {
      "text/plain": [
       "<Axes: xlabel='Date'>"
      ]
     },
     "execution_count": 139,
     "metadata": {},
     "output_type": "execute_result"
    },
    {
     "data": {
      "image/png": "[encoded data removed]",
      "text/plain": [
       "<Figure size 640x480 with 1 Axes>"
      ]
     },
     "metadata": {},
     "output_type": "display_data"
    }
   ],
   "source": [
    "mxxIdx_truncated.Close.plot.line()"
   ]
  },
  {
   "cell_type": "code",
   "execution_count": 140,
   "id": "b4e99841",
   "metadata": {},
   "outputs": [],
   "source": [
    "endValueMxx = mxxIdx_truncated.yoy_growth.iloc[-1] \n",
    "startValueMXX = mxxIdx_truncated.yoy_growth.iloc[0]"
   ]
  },
  {
   "cell_type": "code",
   "execution_count": 141,
   "id": "5219ec57",
   "metadata": {},
   "outputs": [
    {
     "name": "stdout",
     "output_type": "stream",
     "text": [
      "Growth of Mexico Index is -115.71%\n"
     ]
    }
   ],
   "source": [
    "print(f\"Growth of Mexico Index is {Percent(endValueMxx/startValueMXX - 1)}\")"
   ]
  },
  {
   "cell_type": "code",
   "execution_count": 145,
   "id": "f76e3b16",
   "metadata": {},
   "outputs": [
    {
     "name": "stdout",
     "output_type": "stream",
     "text": [
      "Growth of S&P Index is 165.37%\n"
     ]
    }
   ],
   "source": [
    "print(f\"Growth of S&P Index is {Percent(snp500Idx_truncated.yoy_growth.iloc[-1]/snp500Idx_truncated.yoy_growth.iloc[0] - 1)}\")"
   ]
  },
  {
   "cell_type": "code",
   "execution_count": 106,
   "id": "a84e495d",
   "metadata": {},
   "outputs": [
    {
     "data": {
      "text/plain": [
       "<Axes: xlabel='Date'>"
      ]
     },
     "execution_count": 106,
     "metadata": {},
     "output_type": "execute_result"
    },
    {
     "data": {
      "image/png": "[encoded data removed]",
      "text/plain": [
       "<Figure size 640x480 with 1 Axes>"
      ]
     },
     "metadata": {},
     "output_type": "display_data"
    }
   ],
   "source": [
    "mxxIdx_truncated.Close.plot.line()"
   ]
  },
  {
   "cell_type": "markdown",
   "id": "b9e0b129",
   "metadata": {},
   "source": [
    "#### Question 4. [Stocks OHLCV] 52-weeks range ratio (2023) for the selected stocks\n",
    "Find the largest range ratio [=(max-min)/max] of Adj.Close prices in 2023\n",
    "\n",
    "Download the 2023 daily OHLCV data on Yahoo Finance for top6 stocks on earnings (https://companiesmarketcap.com/most-profitable-companies/): 2222.SR,BRK-B, AAPL, MSFT, GOOG, JPM.\n",
    "\n",
    "Here is the example data you should see in Pandas for \"2222.SR\": https://finance.yahoo.com/quote/2222.SR/history\n",
    "\n",
    "Calculate maximum-minimim \"Adj.Close\" price for each stock and divide it by the maximum \"Adj.Close\" value. Round the result to two decimal places (e.g. 0.1575 will be 0.16)\n",
    "\n",
    "(Additional: why this may be important for your research?)"
   ]
  },
  {
   "cell_type": "code",
   "execution_count": 165,
   "id": "521f2fb5",
   "metadata": {},
   "outputs": [],
   "source": [
    "def get_OHLCV(symbol):\n",
    "    historical_data = yf.download(tickers = symbol,\n",
    "                     period = \"2y\",\n",
    "                     interval = \"1d\")\n",
    "    historical_data_truncated = historical_data[(historical_data.index>='2023-01-01')  & (historical_data.index <'2024-01-01')]\n",
    "    return historical_data_truncated"
   ]
  },
  {
   "cell_type": "code",
   "execution_count": 177,
   "id": "bfefb6cd",
   "metadata": {},
   "outputs": [],
   "source": [
    "def get_52Week_Range_Ration(df):\n",
    "    return round((1 - min(df[\"Adj Close\"])/max(df[\"Adj Close\"])),2)"
   ]
  },
  {
   "cell_type": "code",
   "execution_count": 166,
   "id": "34fc6ecf",
   "metadata": {},
   "outputs": [
    {
     "name": "stderr",
     "output_type": "stream",
     "text": [
      "[*********************100%%**********************]  1 of 1 completed\n"
     ]
    }
   ],
   "source": [
    "saudiAramcoIdx = get_OHLCV(\"2222.SR\")"
   ]
  },
  {
   "cell_type": "code",
   "execution_count": 172,
   "id": "2eb4fd78",
   "metadata": {},
   "outputs": [
    {
     "data": {
      "text/html": [
       "<div>\n",
       "<style scoped>\n",
       "    .dataframe tbody tr th:only-of-type {\n",
       "        vertical-align: middle;\n",
       "    }\n",
       "\n",
       "    .dataframe tbody tr th {\n",
       "        vertical-align: top;\n",
       "    }\n",
       "\n",
       "    .dataframe thead th {\n",
       "        text-align: right;\n",
       "    }\n",
       "</style>\n",
       "<table border=\"1\" class=\"dataframe\">\n",
       "  <thead>\n",
       "    <tr style=\"text-align: right;\">\n",
       "      <th></th>\n",
       "      <th>Open</th>\n",
       "      <th>High</th>\n",
       "      <th>Low</th>\n",
       "      <th>Close</th>\n",
       "      <th>Adj Close</th>\n",
       "      <th>Volume</th>\n",
       "    </tr>\n",
       "    <tr>\n",
       "      <th>Date</th>\n",
       "      <th></th>\n",
       "      <th></th>\n",
       "      <th></th>\n",
       "      <th></th>\n",
       "      <th></th>\n",
       "      <th></th>\n",
       "    </tr>\n",
       "  </thead>\n",
       "  <tbody>\n",
       "    <tr>\n",
       "      <th>2023-12-25</th>\n",
       "      <td>33.000000</td>\n",
       "      <td>33.099998</td>\n",
       "      <td>32.849998</td>\n",
       "      <td>33.099998</td>\n",
       "      <td>32.927525</td>\n",
       "      <td>15869070</td>\n",
       "    </tr>\n",
       "    <tr>\n",
       "      <th>2023-12-26</th>\n",
       "      <td>33.049999</td>\n",
       "      <td>33.099998</td>\n",
       "      <td>32.900002</td>\n",
       "      <td>33.049999</td>\n",
       "      <td>32.877789</td>\n",
       "      <td>14598967</td>\n",
       "    </tr>\n",
       "    <tr>\n",
       "      <th>2023-12-27</th>\n",
       "      <td>33.099998</td>\n",
       "      <td>33.250000</td>\n",
       "      <td>33.000000</td>\n",
       "      <td>33.150002</td>\n",
       "      <td>32.977268</td>\n",
       "      <td>14815683</td>\n",
       "    </tr>\n",
       "    <tr>\n",
       "      <th>2023-12-28</th>\n",
       "      <td>33.150002</td>\n",
       "      <td>33.250000</td>\n",
       "      <td>32.950001</td>\n",
       "      <td>33.049999</td>\n",
       "      <td>32.877789</td>\n",
       "      <td>12720450</td>\n",
       "    </tr>\n",
       "    <tr>\n",
       "      <th>2023-12-31</th>\n",
       "      <td>33.049999</td>\n",
       "      <td>33.099998</td>\n",
       "      <td>32.900002</td>\n",
       "      <td>33.000000</td>\n",
       "      <td>32.828049</td>\n",
       "      <td>10776909</td>\n",
       "    </tr>\n",
       "  </tbody>\n",
       "</table>\n",
       "</div>"
      ],
      "text/plain": [
       "                 Open       High        Low      Close  Adj Close    Volume\n",
       "Date                                                                       \n",
       "2023-12-25  33.000000  33.099998  32.849998  33.099998  32.927525  15869070\n",
       "2023-12-26  33.049999  33.099998  32.900002  33.049999  32.877789  14598967\n",
       "2023-12-27  33.099998  33.250000  33.000000  33.150002  32.977268  14815683\n",
       "2023-12-28  33.150002  33.250000  32.950001  33.049999  32.877789  12720450\n",
       "2023-12-31  33.049999  33.099998  32.900002  33.000000  32.828049  10776909"
      ]
     },
     "execution_count": 172,
     "metadata": {},
     "output_type": "execute_result"
    }
   ],
   "source": [
    "saudiAramcoIdx.tail()"
   ]
  },
  {
   "cell_type": "code",
   "execution_count": 178,
   "id": "2d8fd8fe",
   "metadata": {},
   "outputs": [
    {
     "name": "stdout",
     "output_type": "stream",
     "text": [
      "0.21\n"
     ]
    }
   ],
   "source": [
    "saudiAramcoRatio = get_52Week_Range_Ration(saudiAramcoIdx)\n",
    "print(saudiAramcoRatio)"
   ]
  },
  {
   "cell_type": "code",
   "execution_count": 167,
   "id": "21bc07df",
   "metadata": {},
   "outputs": [
    {
     "name": "stderr",
     "output_type": "stream",
     "text": [
      "[*********************100%%**********************]  1 of 1 completed\n"
     ]
    }
   ],
   "source": [
    "brkShrIdx = get_OHLCV(\"BRK-B\")"
   ]
  },
  {
   "cell_type": "code",
   "execution_count": 179,
   "id": "47d3d258",
   "metadata": {},
   "outputs": [
    {
     "name": "stdout",
     "output_type": "stream",
     "text": [
      "0.21\n"
     ]
    }
   ],
   "source": [
    "brkShrIdxRatio = get_52Week_Range_Ration(brkShrIdx)\n",
    "print(brkShrIdxRatio)"
   ]
  },
  {
   "cell_type": "code",
   "execution_count": 168,
   "id": "f4bd6120",
   "metadata": {},
   "outputs": [
    {
     "name": "stderr",
     "output_type": "stream",
     "text": [
      "[*********************100%%**********************]  1 of 1 completed\n"
     ]
    }
   ],
   "source": [
    "appIdx = get_OHLCV(\"AAPL\")"
   ]
  },
  {
   "cell_type": "code",
   "execution_count": 180,
   "id": "424bcafd",
   "metadata": {},
   "outputs": [
    {
     "name": "stdout",
     "output_type": "stream",
     "text": [
      "0.37\n"
     ]
    }
   ],
   "source": [
    "appIdxRatio = get_52Week_Range_Ration(appIdx)\n",
    "print(appIdxRatio)"
   ]
  },
  {
   "cell_type": "code",
   "execution_count": 169,
   "id": "5a3ab0e8",
   "metadata": {},
   "outputs": [
    {
     "name": "stderr",
     "output_type": "stream",
     "text": [
      "[*********************100%%**********************]  1 of 1 completed\n"
     ]
    }
   ],
   "source": [
    "msftIdx = get_OHLCV(\"MSFT\")"
   ]
  },
  {
   "cell_type": "code",
   "execution_count": 181,
   "id": "66b7e124",
   "metadata": {},
   "outputs": [
    {
     "name": "stdout",
     "output_type": "stream",
     "text": [
      "0.42\n"
     ]
    }
   ],
   "source": [
    "msftIdxRatio = get_52Week_Range_Ration(msftIdx)\n",
    "print(msftIdxRatio)"
   ]
  },
  {
   "cell_type": "code",
   "execution_count": 170,
   "id": "743e77f6",
   "metadata": {},
   "outputs": [
    {
     "name": "stderr",
     "output_type": "stream",
     "text": [
      "[*********************100%%**********************]  1 of 1 completed\n"
     ]
    }
   ],
   "source": [
    "googIdx = get_OHLCV(\"GOOG\")"
   ]
  },
  {
   "cell_type": "code",
   "execution_count": 182,
   "id": "5263e9ab",
   "metadata": {},
   "outputs": [
    {
     "name": "stdout",
     "output_type": "stream",
     "text": [
      "0.39\n"
     ]
    }
   ],
   "source": [
    "googIdxRatio = get_52Week_Range_Ration(googIdx)\n",
    "print(googIdxRatio)"
   ]
  },
  {
   "cell_type": "code",
   "execution_count": 171,
   "id": "7da6edc7",
   "metadata": {},
   "outputs": [
    {
     "name": "stderr",
     "output_type": "stream",
     "text": [
      "[*********************100%%**********************]  1 of 1 completed\n"
     ]
    }
   ],
   "source": [
    "jpmIdx = get_OHLCV(\"JPM\")"
   ]
  },
  {
   "cell_type": "code",
   "execution_count": 183,
   "id": "4f1143df",
   "metadata": {},
   "outputs": [
    {
     "name": "stdout",
     "output_type": "stream",
     "text": [
      "0.28\n"
     ]
    }
   ],
   "source": [
    "jpmIdxRatio = get_52Week_Range_Ration(jpmIdx)\n",
    "print(jpmIdxRatio)"
   ]
  },
  {
   "cell_type": "code",
   "execution_count": 185,
   "id": "b38e6435",
   "metadata": {},
   "outputs": [
    {
     "name": "stdout",
     "output_type": "stream",
     "text": [
      "0.42\n"
     ]
    }
   ],
   "source": [
    "print(max(saudiAramcoRatio,brkShrIdxRatio,appIdxRatio,msftIdxRatio,googIdxRatio,jpmIdxRatio))"
   ]
  },
  {
   "cell_type": "markdown",
   "id": "67971f6a",
   "metadata": {},
   "source": [
    "#### Question 5. [Stocks] Dividend Yield\n",
    "Find the largest dividend yield for the same set of stocks\n",
    "\n",
    "Use the same list of companies (2222.SR,BRK-B, AAPL, MSFT, GOOG, JPM) and download all dividends paid in 2023. You can use get_actions() method or .dividends field in yfinance library (https://github.com/ranaroussi/yfinance?tab=readme-ov-file#quick-start)\n",
    "\n",
    "Sum up all dividends paid in 2023 per company and divide each value by the closing price (Adj.Close) at the last trading day of the year.\n",
    "\n",
    "Find the maximm value in % and round to 1 digit after the decimal point. (E.g., if you obtained $1.25 dividends paid and the end year stock price is $100, the dividend yield is 1.25% -- and your answer should be equal to 1.3)"
   ]
  },
  {
   "cell_type": "code",
   "execution_count": 231,
   "id": "c78a06e6",
   "metadata": {},
   "outputs": [],
   "source": [
    "symbols = ['2222.SR','BRK-B', 'AAPL', 'MSFT', 'GOOG', 'JPM']\n",
    "\n",
    "def get_largest_dividend_yield(ls):\n",
    "    allDividents = []\n",
    "    for ticker in symbols:\n",
    "        tickr = yf.Ticker(ticker)\n",
    "        historical_data = yf.download(tickers = ticker,period = \"2y\",interval = \"1d\")\n",
    "        historical_data_truncated = historical_data[(historical_data.index>='2023-01-01')  & (historical_data.index <'2024-01-01')]\n",
    "        dividends = tickr.dividends\n",
    "        dividents_Truncated = dividends[(dividends.index>='2023-01-01')  & (dividends.index <'2024-01-01')]\n",
    "        totalDividents = sum(dividents_Truncated)\n",
    "        div_yield = totalDividents/historical_data_truncated.iloc[-1][\"Adj Close\"]\n",
    "        allDividents.append((div_yield,ticker))\n",
    "    return max(allDividents)\n",
    "        "
   ]
  },
  {
   "cell_type": "code",
   "execution_count": 232,
   "id": "8cadc7a4",
   "metadata": {},
   "outputs": [
    {
     "name": "stderr",
     "output_type": "stream",
     "text": [
      "[*********************100%%**********************]  1 of 1 completed\n",
      "[*********************100%%**********************]  1 of 1 completed\n",
      "[*********************100%%**********************]  1 of 1 completed\n",
      "[*********************100%%**********************]  1 of 1 completed\n",
      "[*********************100%%**********************]  1 of 1 completed\n",
      "[*********************100%%**********************]  1 of 1 completed\n"
     ]
    }
   ],
   "source": [
    "largest_yield = get_largest_dividend_yield(symbols)"
   ]
  },
  {
   "cell_type": "code",
   "execution_count": 233,
   "id": "d987c051",
   "metadata": {},
   "outputs": [
    {
     "name": "stdout",
     "output_type": "stream",
     "text": [
      "(0.027743470474138235, '2222.SR')\n"
     ]
    }
   ],
   "source": [
    "print(largest_yield)"
   ]
  },
  {
   "cell_type": "code",
   "execution_count": 243,
   "id": "4c5ef68e",
   "metadata": {},
   "outputs": [
    {
     "name": "stdout",
     "output_type": "stream",
     "text": [
      "2.8%\n"
     ]
    }
   ],
   "source": [
    "print(Percent(largest_yield[0]))"
   ]
  },
  {
   "cell_type": "code",
   "execution_count": null,
   "id": "827ceda0",
   "metadata": {},
   "outputs": [],
   "source": []
  }
 ],
 "metadata": {
  "kernelspec": {
   "display_name": "Python 3 (ipykernel)",
   "language": "python",
   "name": "python3"
  },
  "language_info": {
   "codemirror_mode": {
    "name": "ipython",
    "version": 3
   },
   "file_extension": ".py",
   "mimetype": "text/x-python",
   "name": "python",
   "nbconvert_exporter": "python",
   "pygments_lexer": "ipython3",
   "version": "3.11.4"
  }
 },
 "nbformat": 4,
 "nbformat_minor": 5
}
